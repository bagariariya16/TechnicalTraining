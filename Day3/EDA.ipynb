{
 "cells": [
  {
   "cell_type": "code",
   "execution_count": 36,
   "id": "c7f7a8d1-4797-4657-bc31-00cd7b56fcbb",
   "metadata": {},
   "outputs": [
    {
     "name": "stdout",
     "output_type": "stream",
     "text": [
      "Version:  2.2.3\n"
     ]
    }
   ],
   "source": [
    "import pandas as pd\n",
    "print(\"Version: \",pd.__version__)\n"
   ]
  },
  {
   "cell_type": "code",
   "execution_count": 37,
   "id": "02f2724d-d9a8-49b3-bcfe-4c5f07889b66",
   "metadata": {},
   "outputs": [
    {
     "name": "stdout",
     "output_type": "stream",
     "text": [
      "0     1\n",
      "1     9\n",
      "2     4\n",
      "3    29\n",
      "4    54\n",
      "5    89\n",
      "6    20\n",
      "dtype: int64\n",
      "Element at index 3:  29\n"
     ]
    }
   ],
   "source": [
    "list = [1,9,4,29,54,89,20]\n",
    "myseries = pd.Series(list)\n",
    "print(myseries)\n",
    "print(\"Element at index 3: \", myseries[3])"
   ]
  },
  {
   "cell_type": "code",
   "execution_count": 38,
   "id": "63f833ea-023e-4a60-a33b-ed0aee5523f5",
   "metadata": {},
   "outputs": [
    {
     "name": "stdout",
     "output_type": "stream",
     "text": [
      "a    1\n",
      "b    3\n",
      "c    5\n",
      "dtype: int64\n",
      "3\n"
     ]
    }
   ],
   "source": [
    "import pandas as pd\n",
    "a =[1,3,5]\n",
    "myvar = pd.Series(a,index=['a','b','c'])\n",
    "print(myvar)\n",
    "print(myvar['b'])"
   ]
  },
  {
   "cell_type": "code",
   "execution_count": 39,
   "id": "4f017ce8",
   "metadata": {},
   "outputs": [
    {
     "name": "stdout",
     "output_type": "stream",
     "text": [
      "id                               1\n",
      "name                          John\n",
      "email                abc@gmail.com\n",
      "address    123,abc street,xyz city\n",
      "salary                       10000\n",
      "dtype: object\n",
      "id:  1\n",
      "name:  John\n"
     ]
    }
   ],
   "source": [
    "employee = {\n",
    "    \"id\":1,\n",
    "    \"name\":\"John\",\n",
    "    \"email\":\"abc@gmail.com\",\n",
    "    \"address\":\"123,abc street,xyz city\",\n",
    "    \"salary\":10000 \n",
    "}\n",
    "data = pd.Series(employee)\n",
    "print(data)\n",
    "print(\"id: \",data['id'])\n",
    "print(\"name: \",data['name'])"
   ]
  },
  {
   "cell_type": "code",
   "execution_count": 40,
   "id": "3217a4c5",
   "metadata": {},
   "outputs": [
    {
     "name": "stdout",
     "output_type": "stream",
     "text": [
      "   id   name         city\n",
      "0   1   John     New York\n",
      "1   2    Doe  Los Angeles\n",
      "2   3   Jane      Chicago\n",
      "3   4  Smith      Houston\n"
     ]
    }
   ],
   "source": [
    "sample={\n",
    "    \"id\":[1,2,3,4],\n",
    "    \"name\":[\"John\",\"Doe\",\"Jane\",\"Smith\"],\n",
    "    \"city\":[\"New York\",\"Los Angeles\",\"Chicago\",\"Houston\"]\n",
    "}\n",
    "df = pd.DataFrame(sample)\n",
    "print(df)"
   ]
  },
  {
   "cell_type": "code",
   "execution_count": 41,
   "id": "957daafc",
   "metadata": {},
   "outputs": [
    {
     "name": "stdout",
     "output_type": "stream",
     "text": [
      "   id   name         city\n",
      "0   1   John     New York\n",
      "1   2    Doe  Los Angeles\n",
      "2   3   Jane      Chicago\n",
      "3   4  Smith      Houston\n",
      "First row:\n",
      "  id             1\n",
      "name        John\n",
      "city    New York\n",
      "Name: 0, dtype: object\n",
      "   id  name         city\n",
      "0   1  John     New York\n",
      "1   2   Doe  Los Angeles\n",
      "John\n"
     ]
    }
   ],
   "source": [
    "import pandas as pd\n",
    "data = {\n",
    "    \"id\":[1,2,3,4],\n",
    "    \"name\":[\"John\",\"Doe\",\"Jane\",\"Smith\"],\n",
    "    \"city\":[\"New York\",\"Los Angeles\",\"Chicago\",\"Houston\"]\n",
    "}\n",
    "df = pd.DataFrame(data)\n",
    "print(df)\n",
    "print(\"First row:\\n \",df.loc[0]) # first row\n",
    "print(df.loc[[0,1]])    # first and second row\n",
    "print(df.iloc[0,1])  # 0th row and 1st column\n"
   ]
  },
  {
   "cell_type": "code",
   "execution_count": 42,
   "id": "623a364e",
   "metadata": {},
   "outputs": [
    {
     "name": "stdout",
     "output_type": "stream",
     "text": [
      "    name         city  id\n",
      "0   John     New York   1\n",
      "1    Doe  Los Angeles   2\n",
      "2   Jane      Chicago   3\n",
      "3  Smith      Houston   4\n"
     ]
    }
   ],
   "source": [
    "import pandas as pd\n",
    "data = {\n",
    "    \"id\":[1,2,3,4],\n",
    "    \"name\":[\"John\",\"Doe\",\"Jane\",\"Smith\"],\n",
    "    \"city\":[\"New York\",\"Los Angeles\",\"Chicago\",\"Houston\"],\n",
    "    \"email\":[\"abc@gmail.com\",\"cat@gmail.com\",\"bob@gmail.com\"]\n",
    "}\n",
    "df = pd.DataFrame(data,columns=[\"name\",\"city\",\"id\"])\n",
    "print(df)"
   ]
  },
  {
   "cell_type": "code",
   "execution_count": 43,
   "id": "a6c49391",
   "metadata": {},
   "outputs": [
    {
     "name": "stdout",
     "output_type": "stream",
     "text": [
      "      Name  Age         City\n",
      "0    Alice   25     New York\n",
      "1      Bob   30  Los Angeles\n",
      "2  Charlie   35      Chicago\n",
      "3    David   40      Houston\n"
     ]
    }
   ],
   "source": [
    "import pandas as pd\n",
    "data = [\n",
    "    [\"Alice\",25,\"New York\"],\n",
    "    [\"Bob\",30,\"Los Angeles\"],\n",
    "    [\"Charlie\",35,\"Chicago\"],\n",
    "    [\"David\",40,\"Houston\"]\n",
    "]\n",
    "df = pd.DataFrame(data,columns=[\"Name\",\"Age\",\"City\"])\n",
    "print(df)"
   ]
  },
  {
   "cell_type": "code",
   "execution_count": 44,
   "id": "747e4780",
   "metadata": {},
   "outputs": [
    {
     "name": "stdout",
     "output_type": "stream",
     "text": [
      "     id              name                       email    gender  percentage\n",
      "0     1     Chariot Jopke            cjopke0@ucsd.edu      Male         6.7\n",
      "1     2        Zorana Dan            zdan1@oracle.com    Female         6.3\n",
      "2     3       Kurt Rumble           krumble2@tamu.edu      Male         6.9\n",
      "3     4     Ethyl Yandell      eyandell3@bluehost.com    Female         6.4\n",
      "4     5    Aeriela Bolzen          abolzen4@lycos.com    Female         6.5\n",
      "..  ...               ...                         ...       ...         ...\n",
      "95   96   Meagan Douglass  mdouglass2n@friendfeed.com  Bigender         9.1\n",
      "96   97     Riccardo Asty         rasty2o@cornell.edu      Male         6.2\n",
      "97   98     Karoly Chiese        kchiese2p@dyndns.org      Male         6.0\n",
      "98   99    Raquel Kerrane    rkerrane2q@geocities.com    Female         1.5\n",
      "99  100  Jenifer Farrants         jfarrants2r@cmu.edu    Female         4.0\n",
      "\n",
      "[100 rows x 5 columns]\n"
     ]
    },
    {
     "data": {
      "text/html": [
       "<div>\n",
       "<style scoped>\n",
       "    .dataframe tbody tr th:only-of-type {\n",
       "        vertical-align: middle;\n",
       "    }\n",
       "\n",
       "    .dataframe tbody tr th {\n",
       "        vertical-align: top;\n",
       "    }\n",
       "\n",
       "    .dataframe thead th {\n",
       "        text-align: right;\n",
       "    }\n",
       "</style>\n",
       "<table border=\"1\" class=\"dataframe\">\n",
       "  <thead>\n",
       "    <tr style=\"text-align: right;\">\n",
       "      <th></th>\n",
       "      <th>id</th>\n",
       "      <th>name</th>\n",
       "      <th>email</th>\n",
       "      <th>gender</th>\n",
       "      <th>percentage</th>\n",
       "    </tr>\n",
       "  </thead>\n",
       "  <tbody>\n",
       "    <tr>\n",
       "      <th>0</th>\n",
       "      <td>1</td>\n",
       "      <td>Chariot Jopke</td>\n",
       "      <td>cjopke0@ucsd.edu</td>\n",
       "      <td>Male</td>\n",
       "      <td>6.7</td>\n",
       "    </tr>\n",
       "    <tr>\n",
       "      <th>1</th>\n",
       "      <td>2</td>\n",
       "      <td>Zorana Dan</td>\n",
       "      <td>zdan1@oracle.com</td>\n",
       "      <td>Female</td>\n",
       "      <td>6.3</td>\n",
       "    </tr>\n",
       "    <tr>\n",
       "      <th>2</th>\n",
       "      <td>3</td>\n",
       "      <td>Kurt Rumble</td>\n",
       "      <td>krumble2@tamu.edu</td>\n",
       "      <td>Male</td>\n",
       "      <td>6.9</td>\n",
       "    </tr>\n",
       "  </tbody>\n",
       "</table>\n",
       "</div>"
      ],
      "text/plain": [
       "   id           name              email  gender  percentage\n",
       "0   1  Chariot Jopke   cjopke0@ucsd.edu    Male         6.7\n",
       "1   2     Zorana Dan   zdan1@oracle.com  Female         6.3\n",
       "2   3    Kurt Rumble  krumble2@tamu.edu    Male         6.9"
      ]
     },
     "execution_count": 44,
     "metadata": {},
     "output_type": "execute_result"
    }
   ],
   "source": [
    "student_data = pd.read_csv(\"MOCK_DATA.csv\")  \n",
    "#converted to string\n",
    "print(student_data)\n",
    "\n",
    "# print first 3 rows\n",
    "student_data.head(3)\n"
   ]
  },
  {
   "cell_type": "code",
   "execution_count": 45,
   "id": "9b25330b",
   "metadata": {},
   "outputs": [
    {
     "name": "stdout",
     "output_type": "stream",
     "text": [
      "     id                    name                            email       gender  percentage\n",
      "0     1           Chariot Jopke                 cjopke0@ucsd.edu         Male         6.7\n",
      "1     2              Zorana Dan                 zdan1@oracle.com       Female         6.3\n",
      "2     3             Kurt Rumble                krumble2@tamu.edu         Male         6.9\n",
      "3     4           Ethyl Yandell           eyandell3@bluehost.com       Female         6.4\n",
      "4     5          Aeriela Bolzen               abolzen4@lycos.com       Female         6.5\n",
      "5     6         Junette Audritt                jaudritt5@mail.ru       Female         4.5\n",
      "6     7    Valentino Skillicorn      vskillicorn6@shutterfly.com         Male         7.2\n",
      "7     8           Tuesday Gogie          tgogie7@photobucket.com       Female         6.1\n",
      "8     9             Rowena Brum                    rbrum8@hp.com       Female         3.9\n",
      "9    10        Cathlene Snedker          csnedker9@geocities.com       Female         2.7\n",
      "10   11       Carleton Le Friec             clea@stumbleupon.com         Male         7.3\n",
      "11   12           Madge Yarnell                myarnellb@pbs.org   Polygender         8.3\n",
      "12   13         Jacinthe Cooley                 jcooleyc@ihg.com       Female         6.7\n",
      "13   14            Garrott Garm          ggarmd@wunderground.com         Male         7.9\n",
      "14   15          Robers Barnett           rbarnette@hubpages.com         Male         7.5\n",
      "15   16         Catarina Tabard                 ctabardf@soup.io       Female         7.7\n",
      "16   17            Daisy Tomley         dtomleyg@miibeian.gov.cn   Polygender         5.1\n",
      "17   18         Lara Simoneschi             lsimoneschih@php.net   Polygender         1.0\n",
      "18   19           Earvin Romand        eromandi@chronoengine.com         Male         9.6\n",
      "19   20          Jared Vickress              jvickressj@wisc.edu         Male         1.0\n",
      "20   21          Clarey Straker           cstrakerk@hatena.ne.jp       Female         9.5\n",
      "21   22           Merrie Croote         mcrootel@dailymotion.com       Female         1.1\n",
      "22   23           Karoly Fulker             kfulkerm@comcast.net       Female         5.5\n",
      "23   24         Clayson Carding                ccardingn@pbs.org         Male         9.6\n",
      "24   25          Nelia Palffrey     npalffreyo@deliciousdays.com       Female         5.4\n",
      "25   26            Hersh Baxill                  hbaxillp@i2i.jp         Male         1.1\n",
      "26   27              Moyna Neal               mnealq@spotify.com       Female         1.7\n",
      "27   28             Shae Treece               streecer@globo.com         Male         3.6\n",
      "28   29          Sonni Shepeard                sshepeards@gov.uk       Female         3.6\n",
      "29   30        Gaspar Phinnessy            gphinnessyt@prweb.com         Male         8.9\n",
      "30   31           Anita Speddin         aspeddinu@purevolume.com       Female         4.3\n",
      "31   32           Isa Janosevic               ijanosevicv@va.gov         Male         3.3\n",
      "32   33            Addy Labarre           alabarrew@yolasite.com         Male         4.9\n",
      "33   34        Whitman Strachan               wstrachanx@usa.gov         Male         9.8\n",
      "34   35         Norah Christofe                nchristofey@51.la       Female         5.2\n",
      "35   36  Anne-corinne MacCathay            amaccathayz@patch.com       Female         4.0\n",
      "36   37         Sherilyn Fassan             sfassan10@ustream.tv   Non-binary         1.4\n",
      "37   38          Maryanne Phaup           mphaup11@google.com.au       Female         6.9\n",
      "38   39             Drud Sunman       dsunman12@biblegateway.com         Male         3.5\n",
      "39   40       Crichton Whitnell            cwhitnell13@topsy.com         Male         1.6\n",
      "40   41         Livia Delbergue    ldelbergue14@wunderground.com       Female         3.9\n",
      "41   42          Shelba Fawdrey             sfawdrey15@naver.com       Female         4.6\n",
      "42   43           Major Burnell           mburnell16@vinaora.com         Male         3.1\n",
      "43   44         Neill Clitherow     nclitherow17@marketwatch.com         Male         3.9\n",
      "44   45            Shadow Hadny                shadny18@gmpg.org         Male         7.3\n",
      "45   46      Florida Sharphouse      fsharphouse19@angelfire.com       Female         5.5\n",
      "46   47         Demott Spancock            dspancock1a@cisco.com     Bigender         2.7\n",
      "47   48        Marchelle Labone        mlabone1b@liveinternet.ru  Genderqueer         7.4\n",
      "48   49            Brit Sancias        bsancias1c@soundcloud.com         Male         3.5\n",
      "49   50        Roderick Sellens              rsellens1d@army.mil         Male         7.5\n",
      "50   51            Sallee Mathe             smathe1e@histats.com       Female         2.2\n",
      "51   52            Bunny Sturch                bsturch1f@unc.edu       Female         5.8\n",
      "52   53           Burty Epelett            bepelett1g@apache.org         Male         9.6\n",
      "53   54             Dirk Firmin              dfirmin1h@diigo.com         Male         7.4\n",
      "54   55                Ema Dank                  edank1i@soup.io       Female         3.4\n",
      "55   56           Mikel Kemmett           mkemmett1j@oaic.gov.au         Male         7.1\n",
      "56   57             Thom Forsey             tforsey1k@unicef.org         Male         4.3\n",
      "57   58       Mellisent Sculley              msculley1l@usda.gov      Agender         2.5\n",
      "58   59          Kelcy Stendell             kstendell1m@dell.com       Female         6.4\n",
      "59   60         Nowell Elletson         nelletson1n@freewebs.com         Male         2.0\n",
      "60   61           Ivonne Beseke                  ibeseke1o@ow.ly       Female         4.1\n",
      "61   62           Reuben Dowyer           rdowyer1p@illinois.edu         Male         4.7\n",
      "62   63       Sybille Shilburne          sshilburne1q@zimbio.com       Female         6.1\n",
      "63   64            Kattie Booty               kbooty1r@cisco.com       Female         5.5\n",
      "64   65          Wilhelm Founds              wfounds1s@about.com         Male         5.0\n",
      "65   66            Lusa Hamshaw             lhamshaw1t@ifeng.com       Female         1.2\n",
      "66   67             Paola Evemy      pevemy1u@simplemachines.org       Female         9.2\n",
      "67   68           Wally Ornells           wornells1v@twitpic.com  Genderfluid         6.6\n",
      "68   69        Derrik Cambridge              dcambridge1w@wp.com         Male         2.0\n",
      "69   70          Northrop Buggy        nbuggy1x@sciencedaily.com         Male         4.5\n",
      "70   71          Idell Weathers          iweathers1y@webnode.com   Polygender         4.8\n",
      "71   72        Florenza MacAree             fmacaree1z@webmd.com       Female         4.9\n",
      "72   73            Hamish Newby         hnewby20@list-manage.com         Male         1.6\n",
      "73   74           Mirilla Piser                 mpiser21@who.int       Female         8.3\n",
      "74   75          Florenza Moody         fmoody22@statcounter.com       Female         2.0\n",
      "75   76         Willamina Ervin                 wervin23@tiny.cc       Female         7.0\n",
      "76   77         Humfrey Duberry              hduberry24@ehow.com   Non-binary         6.3\n",
      "77   78           Irene Avraham         iavraham25@csmonitor.com       Female         1.7\n",
      "78   79        Kienan Strathman          kstrathman26@netlog.com         Male         7.2\n",
      "79   80         Hasty MacGaughy         hmacgaughy27@blogger.com   Non-binary         5.1\n",
      "80   81          Devland Plante        dplante28@sourceforge.net         Male         3.8\n",
      "81   82          Sigvard Mullan              smullan29@exblog.jp         Male         9.6\n",
      "82   83        Hedvig Fritchley          hfritchley2a@scribd.com       Female         1.1\n",
      "83   84                Vin Sant          vsant2b@photobucket.com       Female         2.1\n",
      "84   85              Jerrie Vaz                  jvaz2c@ebay.com  Genderfluid         6.0\n",
      "85   86          Perkin Zanetti        pzanetti2d@mayoclinic.com         Male         5.6\n",
      "86   87           Holly Passman            hpassman2e@jalbum.net       Female         6.6\n",
      "87   88        Aguistin Kohtler           akohtler2f@auda.org.au         Male         8.0\n",
      "88   89             Paige Boyer               pboyer2g@opera.com       Female         4.1\n",
      "89   90        Albert Whittaker    awhittaker2h@businesswire.com         Male         9.9\n",
      "90   91         Bartel Gawkroge      bgawkroge2i@squarespace.com         Male         3.2\n",
      "91   92          Raina Pothbury         rpothbury2j@sakura.ne.jp       Female         5.8\n",
      "92   93      Maridel O'Mullally  momullally2k@washingtonpost.com       Female         2.1\n",
      "93   94           Erek Brandone        ebrandone2l@blinklist.com         Male         7.9\n",
      "94   95          Christi Livard                clivard2m@icq.com     Bigender         8.8\n",
      "95   96         Meagan Douglass       mdouglass2n@friendfeed.com     Bigender         9.1\n",
      "96   97           Riccardo Asty              rasty2o@cornell.edu         Male         6.2\n",
      "97   98           Karoly Chiese             kchiese2p@dyndns.org         Male         6.0\n",
      "98   99          Raquel Kerrane         rkerrane2q@geocities.com       Female         1.5\n",
      "99  100        Jenifer Farrants              jfarrants2r@cmu.edu       Female         4.0\n"
     ]
    }
   ],
   "source": [
    "print(student_data.to_string())"
   ]
  },
  {
   "cell_type": "code",
   "execution_count": 46,
   "id": "eaf0c418",
   "metadata": {},
   "outputs": [
    {
     "name": "stdout",
     "output_type": "stream",
     "text": [
      "     id              name                     email  gender  percentage\n",
      "97   98     Karoly Chiese      kchiese2p@dyndns.org    Male         6.0\n",
      "98   99    Raquel Kerrane  rkerrane2q@geocities.com  Female         1.5\n",
      "99  100  Jenifer Farrants       jfarrants2r@cmu.edu  Female         4.0\n"
     ]
    }
   ],
   "source": [
    "print(student_data.tail(3))"
   ]
  },
  {
   "cell_type": "code",
   "execution_count": 47,
   "id": "c6f08b93",
   "metadata": {},
   "outputs": [
    {
     "name": "stdout",
     "output_type": "stream",
     "text": [
      "(100, 5)\n"
     ]
    }
   ],
   "source": [
    "print(student_data.shape)"
   ]
  },
  {
   "cell_type": "code",
   "execution_count": 48,
   "id": "4d9968e9",
   "metadata": {},
   "outputs": [
    {
     "name": "stdout",
     "output_type": "stream",
     "text": [
      "<class 'pandas.core.frame.DataFrame'>\n",
      "RangeIndex: 100 entries, 0 to 99\n",
      "Data columns (total 5 columns):\n",
      " #   Column      Non-Null Count  Dtype  \n",
      "---  ------      --------------  -----  \n",
      " 0   id          100 non-null    int64  \n",
      " 1   name        100 non-null    object \n",
      " 2   email       100 non-null    object \n",
      " 3   gender      100 non-null    object \n",
      " 4   percentage  100 non-null    float64\n",
      "dtypes: float64(1), int64(1), object(3)\n",
      "memory usage: 4.0+ KB\n",
      "None\n"
     ]
    }
   ],
   "source": [
    "print(student_data.info())"
   ]
  },
  {
   "cell_type": "code",
   "execution_count": 49,
   "id": "1c8db0cf",
   "metadata": {},
   "outputs": [
    {
     "data": {
      "text/html": [
       "<div>\n",
       "<style scoped>\n",
       "    .dataframe tbody tr th:only-of-type {\n",
       "        vertical-align: middle;\n",
       "    }\n",
       "\n",
       "    .dataframe tbody tr th {\n",
       "        vertical-align: top;\n",
       "    }\n",
       "\n",
       "    .dataframe thead th {\n",
       "        text-align: right;\n",
       "    }\n",
       "</style>\n",
       "<table border=\"1\" class=\"dataframe\">\n",
       "  <thead>\n",
       "    <tr style=\"text-align: right;\">\n",
       "      <th></th>\n",
       "      <th>id</th>\n",
       "      <th>percentage</th>\n",
       "    </tr>\n",
       "  </thead>\n",
       "  <tbody>\n",
       "    <tr>\n",
       "      <th>count</th>\n",
       "      <td>100.000000</td>\n",
       "      <td>100.000000</td>\n",
       "    </tr>\n",
       "    <tr>\n",
       "      <th>mean</th>\n",
       "      <td>50.500000</td>\n",
       "      <td>5.235000</td>\n",
       "    </tr>\n",
       "    <tr>\n",
       "      <th>std</th>\n",
       "      <td>29.011492</td>\n",
       "      <td>2.494656</td>\n",
       "    </tr>\n",
       "    <tr>\n",
       "      <th>min</th>\n",
       "      <td>1.000000</td>\n",
       "      <td>1.000000</td>\n",
       "    </tr>\n",
       "    <tr>\n",
       "      <th>25%</th>\n",
       "      <td>25.750000</td>\n",
       "      <td>3.475000</td>\n",
       "    </tr>\n",
       "    <tr>\n",
       "      <th>50%</th>\n",
       "      <td>50.500000</td>\n",
       "      <td>5.300000</td>\n",
       "    </tr>\n",
       "    <tr>\n",
       "      <th>75%</th>\n",
       "      <td>75.250000</td>\n",
       "      <td>7.125000</td>\n",
       "    </tr>\n",
       "    <tr>\n",
       "      <th>max</th>\n",
       "      <td>100.000000</td>\n",
       "      <td>9.900000</td>\n",
       "    </tr>\n",
       "  </tbody>\n",
       "</table>\n",
       "</div>"
      ],
      "text/plain": [
       "               id  percentage\n",
       "count  100.000000  100.000000\n",
       "mean    50.500000    5.235000\n",
       "std     29.011492    2.494656\n",
       "min      1.000000    1.000000\n",
       "25%     25.750000    3.475000\n",
       "50%     50.500000    5.300000\n",
       "75%     75.250000    7.125000\n",
       "max    100.000000    9.900000"
      ]
     },
     "execution_count": 49,
     "metadata": {},
     "output_type": "execute_result"
    }
   ],
   "source": [
    "student_data.describe()"
   ]
  },
  {
   "cell_type": "code",
   "execution_count": 50,
   "id": "7655322e",
   "metadata": {},
   "outputs": [
    {
     "name": "stdout",
     "output_type": "stream",
     "text": [
      "               id  percentage\n",
      "count  100.000000  100.000000\n",
      "mean    50.500000    5.235000\n",
      "std     29.011492    2.494656\n",
      "min      1.000000    1.000000\n",
      "25%     25.750000    3.475000\n",
      "50%     50.500000    5.300000\n",
      "75%     75.250000    7.125000\n",
      "max    100.000000    9.900000\n"
     ]
    }
   ],
   "source": [
    "print(student_data.describe())"
   ]
  },
  {
   "cell_type": "code",
   "execution_count": 51,
   "id": "ea6c6940",
   "metadata": {},
   "outputs": [
    {
     "data": {
      "text/html": [
       "<div>\n",
       "<style scoped>\n",
       "    .dataframe tbody tr th:only-of-type {\n",
       "        vertical-align: middle;\n",
       "    }\n",
       "\n",
       "    .dataframe tbody tr th {\n",
       "        vertical-align: top;\n",
       "    }\n",
       "\n",
       "    .dataframe thead th {\n",
       "        text-align: right;\n",
       "    }\n",
       "</style>\n",
       "<table border=\"1\" class=\"dataframe\">\n",
       "  <thead>\n",
       "    <tr style=\"text-align: right;\">\n",
       "      <th></th>\n",
       "      <th>email</th>\n",
       "      <th>name</th>\n",
       "    </tr>\n",
       "  </thead>\n",
       "  <tbody>\n",
       "    <tr>\n",
       "      <th>0</th>\n",
       "      <td>cjopke0@ucsd.edu</td>\n",
       "      <td>Chariot Jopke</td>\n",
       "    </tr>\n",
       "    <tr>\n",
       "      <th>1</th>\n",
       "      <td>zdan1@oracle.com</td>\n",
       "      <td>Zorana Dan</td>\n",
       "    </tr>\n",
       "    <tr>\n",
       "      <th>2</th>\n",
       "      <td>krumble2@tamu.edu</td>\n",
       "      <td>Kurt Rumble</td>\n",
       "    </tr>\n",
       "    <tr>\n",
       "      <th>3</th>\n",
       "      <td>eyandell3@bluehost.com</td>\n",
       "      <td>Ethyl Yandell</td>\n",
       "    </tr>\n",
       "    <tr>\n",
       "      <th>4</th>\n",
       "      <td>abolzen4@lycos.com</td>\n",
       "      <td>Aeriela Bolzen</td>\n",
       "    </tr>\n",
       "  </tbody>\n",
       "</table>\n",
       "</div>"
      ],
      "text/plain": [
       "                    email            name\n",
       "0        cjopke0@ucsd.edu   Chariot Jopke\n",
       "1        zdan1@oracle.com      Zorana Dan\n",
       "2       krumble2@tamu.edu     Kurt Rumble\n",
       "3  eyandell3@bluehost.com   Ethyl Yandell\n",
       "4      abolzen4@lycos.com  Aeriela Bolzen"
      ]
     },
     "execution_count": 51,
     "metadata": {},
     "output_type": "execute_result"
    }
   ],
   "source": [
    "student_data[['email','name']].head()"
   ]
  },
  {
   "cell_type": "code",
   "execution_count": 52,
   "id": "12370e8d",
   "metadata": {},
   "outputs": [
    {
     "data": {
      "text/plain": [
       "count    100.000000\n",
       "mean       5.235000\n",
       "std        2.494656\n",
       "min        1.000000\n",
       "25%        3.475000\n",
       "50%        5.300000\n",
       "75%        7.125000\n",
       "max        9.900000\n",
       "Name: percentage, dtype: float64"
      ]
     },
     "execution_count": 52,
     "metadata": {},
     "output_type": "execute_result"
    }
   ],
   "source": [
    "student_data['percentage'].describe()"
   ]
  },
  {
   "cell_type": "code",
   "execution_count": 53,
   "id": "44a1901a",
   "metadata": {},
   "outputs": [
    {
     "name": "stdout",
     "output_type": "stream",
     "text": [
      "   student_id               Name  Math  Science  English  Total Grade\n",
      "0           1     Mathias Cupitt    32       24       79    135     D\n",
      "1           2       Nani Tromans    21       42       89    152     C\n",
      "2           3     Adey Gulleford    55       43        4    102     D\n",
      "3           4   Constantia Place    77       54       61    192     C\n",
      "4           5  Scarface Olivetti    87       31       33    151     C\n"
     ]
    }
   ],
   "source": [
    "import pandas as pd\n",
    "\n",
    "# Create a simple dataframe by reading a CSV file\n",
    "df = pd.read_csv(\"marks.csv\")\n",
    "print(df.head())\n"
   ]
  },
  {
   "cell_type": "code",
   "execution_count": 54,
   "id": "4c1e0c05",
   "metadata": {},
   "outputs": [
    {
     "data": {
      "text/html": [
       "<div>\n",
       "<style scoped>\n",
       "    .dataframe tbody tr th:only-of-type {\n",
       "        vertical-align: middle;\n",
       "    }\n",
       "\n",
       "    .dataframe tbody tr th {\n",
       "        vertical-align: top;\n",
       "    }\n",
       "\n",
       "    .dataframe thead th {\n",
       "        text-align: right;\n",
       "    }\n",
       "</style>\n",
       "<table border=\"1\" class=\"dataframe\">\n",
       "  <thead>\n",
       "    <tr style=\"text-align: right;\">\n",
       "      <th></th>\n",
       "      <th>student_id</th>\n",
       "      <th>Name</th>\n",
       "      <th>Math</th>\n",
       "      <th>Science</th>\n",
       "      <th>English</th>\n",
       "      <th>Total</th>\n",
       "      <th>Grade</th>\n",
       "    </tr>\n",
       "  </thead>\n",
       "  <tbody>\n",
       "    <tr>\n",
       "      <th>0</th>\n",
       "      <td>False</td>\n",
       "      <td>False</td>\n",
       "      <td>False</td>\n",
       "      <td>False</td>\n",
       "      <td>False</td>\n",
       "      <td>False</td>\n",
       "      <td>False</td>\n",
       "    </tr>\n",
       "    <tr>\n",
       "      <th>1</th>\n",
       "      <td>False</td>\n",
       "      <td>False</td>\n",
       "      <td>False</td>\n",
       "      <td>False</td>\n",
       "      <td>False</td>\n",
       "      <td>False</td>\n",
       "      <td>False</td>\n",
       "    </tr>\n",
       "    <tr>\n",
       "      <th>2</th>\n",
       "      <td>False</td>\n",
       "      <td>False</td>\n",
       "      <td>False</td>\n",
       "      <td>False</td>\n",
       "      <td>False</td>\n",
       "      <td>False</td>\n",
       "      <td>False</td>\n",
       "    </tr>\n",
       "    <tr>\n",
       "      <th>3</th>\n",
       "      <td>False</td>\n",
       "      <td>False</td>\n",
       "      <td>False</td>\n",
       "      <td>False</td>\n",
       "      <td>False</td>\n",
       "      <td>False</td>\n",
       "      <td>False</td>\n",
       "    </tr>\n",
       "    <tr>\n",
       "      <th>4</th>\n",
       "      <td>False</td>\n",
       "      <td>False</td>\n",
       "      <td>False</td>\n",
       "      <td>False</td>\n",
       "      <td>False</td>\n",
       "      <td>False</td>\n",
       "      <td>False</td>\n",
       "    </tr>\n",
       "    <tr>\n",
       "      <th>...</th>\n",
       "      <td>...</td>\n",
       "      <td>...</td>\n",
       "      <td>...</td>\n",
       "      <td>...</td>\n",
       "      <td>...</td>\n",
       "      <td>...</td>\n",
       "      <td>...</td>\n",
       "    </tr>\n",
       "    <tr>\n",
       "      <th>95</th>\n",
       "      <td>False</td>\n",
       "      <td>False</td>\n",
       "      <td>False</td>\n",
       "      <td>False</td>\n",
       "      <td>False</td>\n",
       "      <td>False</td>\n",
       "      <td>False</td>\n",
       "    </tr>\n",
       "    <tr>\n",
       "      <th>96</th>\n",
       "      <td>False</td>\n",
       "      <td>False</td>\n",
       "      <td>False</td>\n",
       "      <td>False</td>\n",
       "      <td>False</td>\n",
       "      <td>False</td>\n",
       "      <td>False</td>\n",
       "    </tr>\n",
       "    <tr>\n",
       "      <th>97</th>\n",
       "      <td>False</td>\n",
       "      <td>False</td>\n",
       "      <td>False</td>\n",
       "      <td>False</td>\n",
       "      <td>False</td>\n",
       "      <td>False</td>\n",
       "      <td>False</td>\n",
       "    </tr>\n",
       "    <tr>\n",
       "      <th>98</th>\n",
       "      <td>False</td>\n",
       "      <td>False</td>\n",
       "      <td>False</td>\n",
       "      <td>False</td>\n",
       "      <td>False</td>\n",
       "      <td>False</td>\n",
       "      <td>False</td>\n",
       "    </tr>\n",
       "    <tr>\n",
       "      <th>99</th>\n",
       "      <td>False</td>\n",
       "      <td>False</td>\n",
       "      <td>False</td>\n",
       "      <td>False</td>\n",
       "      <td>False</td>\n",
       "      <td>False</td>\n",
       "      <td>False</td>\n",
       "    </tr>\n",
       "  </tbody>\n",
       "</table>\n",
       "<p>100 rows × 7 columns</p>\n",
       "</div>"
      ],
      "text/plain": [
       "    student_id   Name   Math  Science  English  Total  Grade\n",
       "0        False  False  False    False    False  False  False\n",
       "1        False  False  False    False    False  False  False\n",
       "2        False  False  False    False    False  False  False\n",
       "3        False  False  False    False    False  False  False\n",
       "4        False  False  False    False    False  False  False\n",
       "..         ...    ...    ...      ...      ...    ...    ...\n",
       "95       False  False  False    False    False  False  False\n",
       "96       False  False  False    False    False  False  False\n",
       "97       False  False  False    False    False  False  False\n",
       "98       False  False  False    False    False  False  False\n",
       "99       False  False  False    False    False  False  False\n",
       "\n",
       "[100 rows x 7 columns]"
      ]
     },
     "execution_count": 54,
     "metadata": {},
     "output_type": "execute_result"
    }
   ],
   "source": [
    "df.isna()"
   ]
  },
  {
   "cell_type": "code",
   "execution_count": 55,
   "id": "794e0594",
   "metadata": {},
   "outputs": [
    {
     "data": {
      "text/html": [
       "<div>\n",
       "<style scoped>\n",
       "    .dataframe tbody tr th:only-of-type {\n",
       "        vertical-align: middle;\n",
       "    }\n",
       "\n",
       "    .dataframe tbody tr th {\n",
       "        vertical-align: top;\n",
       "    }\n",
       "\n",
       "    .dataframe thead th {\n",
       "        text-align: right;\n",
       "    }\n",
       "</style>\n",
       "<table border=\"1\" class=\"dataframe\">\n",
       "  <thead>\n",
       "    <tr style=\"text-align: right;\">\n",
       "      <th></th>\n",
       "      <th>student_id</th>\n",
       "      <th>Name</th>\n",
       "      <th>Math</th>\n",
       "      <th>Science</th>\n",
       "      <th>English</th>\n",
       "      <th>Total</th>\n",
       "      <th>Grade</th>\n",
       "    </tr>\n",
       "  </thead>\n",
       "  <tbody>\n",
       "    <tr>\n",
       "      <th>0</th>\n",
       "      <td>False</td>\n",
       "      <td>False</td>\n",
       "      <td>False</td>\n",
       "      <td>False</td>\n",
       "      <td>False</td>\n",
       "      <td>False</td>\n",
       "      <td>False</td>\n",
       "    </tr>\n",
       "    <tr>\n",
       "      <th>1</th>\n",
       "      <td>False</td>\n",
       "      <td>False</td>\n",
       "      <td>False</td>\n",
       "      <td>False</td>\n",
       "      <td>False</td>\n",
       "      <td>False</td>\n",
       "      <td>False</td>\n",
       "    </tr>\n",
       "    <tr>\n",
       "      <th>2</th>\n",
       "      <td>False</td>\n",
       "      <td>False</td>\n",
       "      <td>False</td>\n",
       "      <td>False</td>\n",
       "      <td>False</td>\n",
       "      <td>False</td>\n",
       "      <td>False</td>\n",
       "    </tr>\n",
       "    <tr>\n",
       "      <th>3</th>\n",
       "      <td>False</td>\n",
       "      <td>False</td>\n",
       "      <td>False</td>\n",
       "      <td>False</td>\n",
       "      <td>False</td>\n",
       "      <td>False</td>\n",
       "      <td>False</td>\n",
       "    </tr>\n",
       "    <tr>\n",
       "      <th>4</th>\n",
       "      <td>False</td>\n",
       "      <td>False</td>\n",
       "      <td>False</td>\n",
       "      <td>False</td>\n",
       "      <td>False</td>\n",
       "      <td>False</td>\n",
       "      <td>False</td>\n",
       "    </tr>\n",
       "    <tr>\n",
       "      <th>...</th>\n",
       "      <td>...</td>\n",
       "      <td>...</td>\n",
       "      <td>...</td>\n",
       "      <td>...</td>\n",
       "      <td>...</td>\n",
       "      <td>...</td>\n",
       "      <td>...</td>\n",
       "    </tr>\n",
       "    <tr>\n",
       "      <th>95</th>\n",
       "      <td>False</td>\n",
       "      <td>False</td>\n",
       "      <td>False</td>\n",
       "      <td>False</td>\n",
       "      <td>False</td>\n",
       "      <td>False</td>\n",
       "      <td>False</td>\n",
       "    </tr>\n",
       "    <tr>\n",
       "      <th>96</th>\n",
       "      <td>False</td>\n",
       "      <td>False</td>\n",
       "      <td>False</td>\n",
       "      <td>False</td>\n",
       "      <td>False</td>\n",
       "      <td>False</td>\n",
       "      <td>False</td>\n",
       "    </tr>\n",
       "    <tr>\n",
       "      <th>97</th>\n",
       "      <td>False</td>\n",
       "      <td>False</td>\n",
       "      <td>False</td>\n",
       "      <td>False</td>\n",
       "      <td>False</td>\n",
       "      <td>False</td>\n",
       "      <td>False</td>\n",
       "    </tr>\n",
       "    <tr>\n",
       "      <th>98</th>\n",
       "      <td>False</td>\n",
       "      <td>False</td>\n",
       "      <td>False</td>\n",
       "      <td>False</td>\n",
       "      <td>False</td>\n",
       "      <td>False</td>\n",
       "      <td>False</td>\n",
       "    </tr>\n",
       "    <tr>\n",
       "      <th>99</th>\n",
       "      <td>False</td>\n",
       "      <td>False</td>\n",
       "      <td>False</td>\n",
       "      <td>False</td>\n",
       "      <td>False</td>\n",
       "      <td>False</td>\n",
       "      <td>False</td>\n",
       "    </tr>\n",
       "  </tbody>\n",
       "</table>\n",
       "<p>100 rows × 7 columns</p>\n",
       "</div>"
      ],
      "text/plain": [
       "    student_id   Name   Math  Science  English  Total  Grade\n",
       "0        False  False  False    False    False  False  False\n",
       "1        False  False  False    False    False  False  False\n",
       "2        False  False  False    False    False  False  False\n",
       "3        False  False  False    False    False  False  False\n",
       "4        False  False  False    False    False  False  False\n",
       "..         ...    ...    ...      ...      ...    ...    ...\n",
       "95       False  False  False    False    False  False  False\n",
       "96       False  False  False    False    False  False  False\n",
       "97       False  False  False    False    False  False  False\n",
       "98       False  False  False    False    False  False  False\n",
       "99       False  False  False    False    False  False  False\n",
       "\n",
       "[100 rows x 7 columns]"
      ]
     },
     "execution_count": 55,
     "metadata": {},
     "output_type": "execute_result"
    }
   ],
   "source": [
    "df.isnull()"
   ]
  },
  {
   "cell_type": "code",
   "execution_count": 56,
   "id": "9e53b7f1",
   "metadata": {},
   "outputs": [
    {
     "data": {
      "text/html": [
       "<div>\n",
       "<style scoped>\n",
       "    .dataframe tbody tr th:only-of-type {\n",
       "        vertical-align: middle;\n",
       "    }\n",
       "\n",
       "    .dataframe tbody tr th {\n",
       "        vertical-align: top;\n",
       "    }\n",
       "\n",
       "    .dataframe thead th {\n",
       "        text-align: right;\n",
       "    }\n",
       "</style>\n",
       "<table border=\"1\" class=\"dataframe\">\n",
       "  <thead>\n",
       "    <tr style=\"text-align: right;\">\n",
       "      <th></th>\n",
       "      <th>Name</th>\n",
       "      <th>Math</th>\n",
       "      <th>Science</th>\n",
       "      <th>English</th>\n",
       "      <th>Total</th>\n",
       "    </tr>\n",
       "  </thead>\n",
       "  <tbody>\n",
       "    <tr>\n",
       "      <th>0</th>\n",
       "      <td>Mathias Cupitt</td>\n",
       "      <td>32</td>\n",
       "      <td>24</td>\n",
       "      <td>79</td>\n",
       "      <td>135</td>\n",
       "    </tr>\n",
       "    <tr>\n",
       "      <th>1</th>\n",
       "      <td>Nani Tromans</td>\n",
       "      <td>21</td>\n",
       "      <td>42</td>\n",
       "      <td>89</td>\n",
       "      <td>152</td>\n",
       "    </tr>\n",
       "    <tr>\n",
       "      <th>2</th>\n",
       "      <td>Adey Gulleford</td>\n",
       "      <td>55</td>\n",
       "      <td>43</td>\n",
       "      <td>4</td>\n",
       "      <td>102</td>\n",
       "    </tr>\n",
       "    <tr>\n",
       "      <th>3</th>\n",
       "      <td>Constantia Place</td>\n",
       "      <td>77</td>\n",
       "      <td>54</td>\n",
       "      <td>61</td>\n",
       "      <td>192</td>\n",
       "    </tr>\n",
       "    <tr>\n",
       "      <th>4</th>\n",
       "      <td>Scarface Olivetti</td>\n",
       "      <td>87</td>\n",
       "      <td>31</td>\n",
       "      <td>33</td>\n",
       "      <td>151</td>\n",
       "    </tr>\n",
       "  </tbody>\n",
       "</table>\n",
       "</div>"
      ],
      "text/plain": [
       "                Name  Math  Science  English  Total\n",
       "0     Mathias Cupitt    32       24       79    135\n",
       "1       Nani Tromans    21       42       89    152\n",
       "2     Adey Gulleford    55       43        4    102\n",
       "3   Constantia Place    77       54       61    192\n",
       "4  Scarface Olivetti    87       31       33    151"
      ]
     },
     "execution_count": 56,
     "metadata": {},
     "output_type": "execute_result"
    }
   ],
   "source": [
    "df['Total'] = df[['Math','Science','English']].sum(axis=1) \n",
    "df[['Name','Math','Science','English','Total']].head()"
   ]
  },
  {
   "cell_type": "code",
   "execution_count": 57,
   "id": "01b23f91",
   "metadata": {},
   "outputs": [],
   "source": [
    "def assign_grade(total):\n",
    "    if total >= 250:\n",
    "        return 'A'\n",
    "    elif total >= 200:\n",
    "        return 'B'\n",
    "    elif total >= 150:\n",
    "        return 'C'\n",
    "    else:\n",
    "        return 'D'"
   ]
  },
  {
   "cell_type": "code",
   "execution_count": 58,
   "id": "61a8042f",
   "metadata": {},
   "outputs": [],
   "source": [
    "df['Total'] = df[['Math','Science','English']].sum(axis=1)\n",
    "# print(df[['Name','Total']])\n",
    "\n",
    "df['Grade'] = df['Total'].apply(assign_grade)"
   ]
  },
  {
   "cell_type": "code",
   "execution_count": 59,
   "id": "c5d650be",
   "metadata": {},
   "outputs": [
    {
     "name": "stdout",
     "output_type": "stream",
     "text": [
      "                        Name  Total Grade\n",
      "0             Mathias Cupitt    135     D\n",
      "1               Nani Tromans    152     C\n",
      "2             Adey Gulleford    102     D\n",
      "3           Constantia Place    192     C\n",
      "4          Scarface Olivetti    151     C\n",
      "..                       ...    ...   ...\n",
      "95  Guenevere Scotchbourouge    138     D\n",
      "96           Annmarie Stripp    160     C\n",
      "97            Koressa Lemary    153     C\n",
      "98           Annamarie Eller    148     D\n",
      "99             Monroe Ledley     39     D\n",
      "\n",
      "[100 rows x 3 columns]\n"
     ]
    }
   ],
   "source": [
    "\n",
    "print(df[['Name','Total','Grade']])"
   ]
  },
  {
   "cell_type": "code",
   "execution_count": 60,
   "id": "704f3c81",
   "metadata": {},
   "outputs": [
    {
     "name": "stdout",
     "output_type": "stream",
     "text": [
      "    student_id           Name  Math  Science  English  Total Grade\n",
      "24          25  Duncan Vondra    93       84       97    274     A\n",
      "No. of students failes:  52\n"
     ]
    }
   ],
   "source": [
    "grade_a_student = df[df['Grade'] == 'A']\n",
    "print(grade_a_student)\n",
    "print('No. of students failes: ',len(df[df['Grade'] == 'D']))\n"
   ]
  },
  {
   "cell_type": "code",
   "execution_count": 61,
   "id": "72ef0056",
   "metadata": {},
   "outputs": [
    {
     "name": "stdout",
     "output_type": "stream",
     "text": [
      "Max marks in Math:  100\n"
     ]
    }
   ],
   "source": [
    "math_max = max(df['Math'])\n",
    "print('Max marks in Math: ', math_max)"
   ]
  },
  {
   "cell_type": "code",
   "execution_count": 62,
   "id": "c7086613",
   "metadata": {},
   "outputs": [
    {
     "name": "stdout",
     "output_type": "stream",
     "text": [
      "    student_id                 Name  Math  Science  English  Total Grade\n",
      "29          30  Hieronymus Kynforth   100       47       38    185     C\n",
      "92          93     Janaya Mawhinney   100       88       55    243     B\n"
     ]
    }
   ],
   "source": [
    "print(df[df['Math'] == math_max])"
   ]
  },
  {
   "cell_type": "code",
   "execution_count": 63,
   "id": "163a2c4c",
   "metadata": {},
   "outputs": [
    {
     "name": "stdout",
     "output_type": "stream",
     "text": [
      "Data saved to new_marks.csv\n"
     ]
    }
   ],
   "source": [
    "df.to_csv('new_marks.csv',index=False)\n",
    "print('Data saved to new_marks.csv')"
   ]
  },
  {
   "cell_type": "code",
   "execution_count": 64,
   "id": "00f201d2",
   "metadata": {},
   "outputs": [
    {
     "name": "stdout",
     "output_type": "stream",
     "text": [
      "              Product_Name  Total_amount\n",
      "0         Pantech Discover       12812.4\n",
      "1    BlackBerry Curve 8300       30045.9\n",
      "2            Sharp Aquos V        5106.0\n",
      "3             Samsung F500       45875.5\n",
      "4              Wiko Lenny2        8716.2\n",
      "5       Sony Ericsson W380        8696.3\n",
      "6            BLU Deejay II        8986.6\n",
      "7       Huawei Watch GT 2e        4202.5\n",
      "8                 NEC e232        4950.0\n",
      "9                Telit T90       23381.6\n",
      "10            Samsung E620       18636.8\n",
      "11  Huawei MediaPad M6 8.4       14283.0\n",
      "12   BlackBerry Curve 9320       26047.6\n",
      "13                LG KG195       29866.8\n",
      "14           alcatel Watch       11209.8\n",
      "15        Acer Liquid E600        4019.2\n",
      "16           Plum Sync 5.0        7790.6\n",
      "17          alcatel OT-209       28073.2\n",
      "18   Realme C3 (3 cameras)       21999.3\n",
      "19         Lenovo K10 Plus       31143.5\n"
     ]
    }
   ],
   "source": [
    "import pandas as pd\n",
    "\n",
    "df = pd.read_csv(\"sales_data.csv\")\n",
    "\n",
    "df['Total_amount'] = df['Quantity'] * df['Price']\n",
    "\n",
    "print(df[['Product_Name','Total_amount']])"
   ]
  },
  {
   "cell_type": "code",
   "execution_count": 65,
   "id": "fde9c919",
   "metadata": {},
   "outputs": [
    {
     "name": "stdout",
     "output_type": "stream",
     "text": [
      "    order_id            Product_Name    Category  Quantity        Date  \\\n",
      "0       1001        Pantech Discover     Pantech         3  18/12/2024   \n",
      "1       1002   BlackBerry Curve 8300  BlackBerry         3  07/03/2024   \n",
      "3       1004            Samsung F500     Samsung         5  10/10/2024   \n",
      "9       1010               Telit T90       Telit         2  26/09/2024   \n",
      "10      1011            Samsung E620     Samsung         4  11/05/2024   \n",
      "11      1012  Huawei MediaPad M6 8.4      Huawei         2  23/11/2024   \n",
      "12      1013   BlackBerry Curve 9320  BlackBerry         4  09/02/2025   \n",
      "13      1014                LG KG195          LG         4  11/05/2024   \n",
      "14      1015           alcatel Watch     alcatel         2  15/04/2024   \n",
      "17      1018          alcatel OT-209     alcatel         4  22/04/2024   \n",
      "18      1019   Realme C3 (3 cameras)      Realme         3  15/04/2024   \n",
      "19      1020         Lenovo K10 Plus      Lenovo         5  07/06/2024   \n",
      "\n",
      "    Total_amount    Price  \n",
      "0        12812.4   4270.8  \n",
      "1        30045.9  10015.3  \n",
      "3        45875.5   9175.1  \n",
      "9        23381.6  11690.8  \n",
      "10       18636.8   4659.2  \n",
      "11       14283.0   7141.5  \n",
      "12       26047.6   6511.9  \n",
      "13       29866.8   7466.7  \n",
      "14       11209.8   5604.9  \n",
      "17       28073.2   7018.3  \n",
      "18       21999.3   7333.1  \n",
      "19       31143.5   6228.7  \n"
     ]
    }
   ],
   "source": [
    "orders_above_10000 = df[df['Total_amount'] > 10000]\n",
    "print(orders_above_10000)"
   ]
  },
  {
   "cell_type": "code",
   "execution_count": null,
   "id": "0f7e88f7",
   "metadata": {},
   "outputs": [
    {
     "name": "stdout",
     "output_type": "stream",
     "text": [
      "Lenovo K10 Plus\n"
     ]
    }
   ],
   "source": [
    "most_sold_product = df.groupby('Product_Name')['Quantity'].sum().idxmax()\n",
    "print(most_sold_product)"
   ]
  },
  {
   "cell_type": "code",
   "execution_count": 69,
   "id": "4d8a5144",
   "metadata": {},
   "outputs": [
    {
     "name": "stdout",
     "output_type": "stream",
     "text": [
      "Category\n",
      "Acer           4019.2\n",
      "BLU            8986.6\n",
      "BlackBerry    56093.5\n",
      "Huawei        18485.5\n",
      "LG            29866.8\n",
      "Lenovo        31143.5\n",
      "NEC            4950.0\n",
      "Pantech       12812.4\n",
      "Plum           7790.6\n",
      "Realme        21999.3\n",
      "Samsung       64512.3\n",
      "Sharp          5106.0\n",
      "Sony           8696.3\n",
      "Telit         23381.6\n",
      "Wiko           8716.2\n",
      "alcatel       39283.0\n",
      "Name: Total_amount, dtype: float64\n"
     ]
    }
   ],
   "source": [
    "total_sales = df.groupby('Category')['Total_amount'].sum()\n",
    "print(total_sales)"
   ]
  }
 ],
 "metadata": {
  "kernelspec": {
   "display_name": "Python 3",
   "language": "python",
   "name": "python3"
  },
  "language_info": {
   "codemirror_mode": {
    "name": "ipython",
    "version": 3
   },
   "file_extension": ".py",
   "mimetype": "text/x-python",
   "name": "python",
   "nbconvert_exporter": "python",
   "pygments_lexer": "ipython3",
   "version": "3.13.2"
  }
 },
 "nbformat": 4,
 "nbformat_minor": 5
}
