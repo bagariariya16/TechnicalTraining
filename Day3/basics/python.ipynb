{
 "cells": [
  {
   "cell_type": "code",
   "execution_count": 2,
   "id": "bd089789-f1c8-4fc2-9f57-2e60dbf0d94c",
   "metadata": {},
   "outputs": [
    {
     "name": "stdout",
     "output_type": "stream",
     "text": [
      "Hello World\n"
     ]
    }
   ],
   "source": [
    "#Simple print method \n",
    "print(\"Hello World\")"
   ]
  },
  {
   "cell_type": "code",
   "execution_count": 12,
   "id": "7fa389df-b268-44f7-9d9a-92e240ce21eb",
   "metadata": {},
   "outputs": [
    {
     "name": "stdout",
     "output_type": "stream",
     "text": [
      "Number 1: 23\n",
      "Name: John Doe\n",
      "Number 2: 34.87\n",
      "<class 'int'>\n"
     ]
    }
   ],
   "source": [
    "#variables\n",
    "num1 = 23\n",
    "num2 = 34.87\n",
    "name = \"John Doe\" #string\n",
    "print(\"Number 1:\",num1)\n",
    "print(\"Name:\",name)\n",
    "print(f\"Number 2: {num2}\")\n",
    "print(type(num1))"
   ]
  },
  {
   "cell_type": "code",
   "execution_count": 10,
   "id": "64776605-27fd-4862-b48e-ce3b6585ac2a",
   "metadata": {},
   "outputs": [
    {
     "name": "stdout",
     "output_type": "stream",
     "text": [
      "text1   text2   text3  \n",
      "temp   temp   temp  \n"
     ]
    }
   ],
   "source": [
    "#value assignment to variables\n",
    "x,y,z = \"text1\",\"text2\",\"text3\"\n",
    "print(x,\" \",y,\" \",z,\" \")\n",
    "p=q=r = \"temp\"\n",
    "print(p,\" \",q,\" \",r,\" \")"
   ]
  },
  {
   "cell_type": "code",
   "execution_count": 23,
   "id": "b46cc8b2-9d52-4d0f-9975-dc3ce2e37cff",
   "metadata": {},
   "outputs": [
    {
     "name": "stdin",
     "output_type": "stream",
     "text": [
      "Enter first number 12\n",
      "Enter second number 2\n"
     ]
    },
    {
     "name": "stdout",
     "output_type": "stream",
     "text": [
      "Exponentiation: 144\n",
      "floor division: 6.0\n",
      "Addition:  14\n"
     ]
    }
   ],
   "source": [
    "#taking input from user\n",
    "num1 = input(\"Enter first number\")\n",
    "num2 = input(\"Enter second number\")\n",
    "result = (int(num1) ** int(num2))\n",
    "result1 = (int(num1) / int(num2))\n",
    "print(\"Exponentiation:\",result)\n",
    "print(\"floor division:\",result1)\n",
    "\n",
    "print(\"Addition: \", (int(num1)+int(num2)))"
   ]
  },
  {
   "cell_type": "code",
   "execution_count": 28,
   "id": "53876700-28fe-4185-a792-bb7c06ef96eb",
   "metadata": {},
   "outputs": [
    {
     "name": "stdin",
     "output_type": "stream",
     "text": [
      "Enter first number 12\n",
      "Enter second number 13\n"
     ]
    },
    {
     "name": "stdout",
     "output_type": "stream",
     "text": [
      "Both numbers are equal? False\n"
     ]
    }
   ],
   "source": [
    "num1 = int(input(\"Enter first number\"))\n",
    "num2 = int(input(\"Enter second number\"))\n",
    "\n",
    "print(\"Both numbers are equal?\",num1 == num2)"
   ]
  },
  {
   "cell_type": "code",
   "execution_count": 30,
   "id": "b4fd0f10-111c-4e02-bb23-7f72d4b047b0",
   "metadata": {},
   "outputs": [
    {
     "name": "stdout",
     "output_type": "stream",
     "text": [
      "a = 5\n",
      "a += b: 10\n",
      "a -= b: 5\n",
      "a *= b: 25\n",
      "a /= b: 5.0\n",
      "a %= b: 0.0\n",
      "a **= b: 0.0\n"
     ]
    }
   ],
   "source": [
    "# Initializing variables\n",
    "a = 10\n",
    "b = 5\n",
    "\n",
    "a = b         \n",
    "print(\"a =\", a)  \n",
    "\n",
    "a += b         # Equivalent to a = a + b\n",
    "print(\"a += b:\", a)  # Output: a += b: 10\n",
    "\n",
    "a -= b         # Equivalent to a = a - b\n",
    "print(\"a -= b:\", a)  # Output: a -= b: 5\n",
    "\n",
    "a *= b         # Equivalent to a = a * b\n",
    "print(\"a *= b:\", a)  # Output: a *= b: 25\n",
    "\n",
    "a /= b         # Equivalent to a = a / b\n",
    "print(\"a /= b:\", a)  # Output: a /= b: 5.0\n",
    "\n",
    "a %= b         # Equivalent to a = a % b\n",
    "print(\"a %= b:\", a)  # Output: a %= b: 0.0\n",
    "\n",
    "a **= b       \n",
    "print(\"a **= b:\", a)  \n"
   ]
  },
  {
   "cell_type": "code",
   "execution_count": 31,
   "id": "464c2316-a406-4c77-8aee-25e209024eb7",
   "metadata": {},
   "outputs": [
    {
     "name": "stdout",
     "output_type": "stream",
     "text": [
      "a and b: False\n",
      "a or b: True\n",
      "not a: False\n",
      "(a and b) or (not a): False\n"
     ]
    }
   ],
   "source": [
    "a = True\n",
    "b = False\n",
    "\n",
    "result = a and b\n",
    "print(\"a and b:\", result)\n",
    "\n",
    "result = a or b\n",
    "print(\"a or b:\", result)\n",
    "\n",
    "result = not a\n",
    "print(\"not a:\", result)\n",
    "\n",
    "result = (a and b) or (not a)\n",
    "print(\"(a and b) or (not a):\", result)\n",
    "\n"
   ]
  },
  {
   "cell_type": "code",
   "execution_count": 32,
   "id": "ff467b82-fa49-4ddc-95fc-7e4779071ab5",
   "metadata": {},
   "outputs": [
    {
     "name": "stdin",
     "output_type": "stream",
     "text": [
      "Enter your email:  riya@gmail.com\n",
      "Enter your password:  1234\n"
     ]
    },
    {
     "name": "stdout",
     "output_type": "stream",
     "text": [
      "Invalid email or password.\n"
     ]
    }
   ],
   "source": [
    "default_email = \"user@example.com\"\n",
    "default_password = \"password123\"\n",
    "\n",
    "email = input(\"Enter your email: \")\n",
    "password = input(\"Enter your password: \")\n",
    "\n",
    "if email == default_email and password == default_password:\n",
    "    print(\"Login successful!\")\n",
    "else:\n",
    "    print(\"Invalid email or password.\")\n"
   ]
  },
  {
   "cell_type": "code",
   "execution_count": 33,
   "id": "c063360d-aa0c-4d4e-b577-35737957ee9c",
   "metadata": {},
   "outputs": [
    {
     "name": "stdin",
     "output_type": "stream",
     "text": [
      "Enter a number:  23\n"
     ]
    },
    {
     "name": "stdout",
     "output_type": "stream",
     "text": [
      "The number is positive.\n"
     ]
    }
   ],
   "source": [
    "number = int(input(\"Enter a number: \"))\n",
    "\n",
    "if number > 0:\n",
    "    print(\"The number is positive.\")\n",
    "elif number < 0:\n",
    "    print(\"The number is negative.\")\n",
    "else:     \n",
    "    print(\"The number is zero.\")"
   ]
  },
  {
   "cell_type": "code",
   "execution_count": 34,
   "id": "5210025e-ce1a-48e6-b31c-9256ea16ab47",
   "metadata": {},
   "outputs": [
    {
     "name": "stdin",
     "output_type": "stream",
     "text": [
      "Enter a number:  23\n"
     ]
    },
    {
     "name": "stdout",
     "output_type": "stream",
     "text": [
      "Positive\n"
     ]
    }
   ],
   "source": [
    "number = int(input(\"Enter a number: \"))\n",
    "\n",
    "result = \"Positive\" if number > 0 else \"Negative or Zero\"\n",
    "print(result)\n"
   ]
  },
  {
   "cell_type": "code",
   "execution_count": 35,
   "id": "d2e3105c-392a-4d4c-a691-233203eb7250",
   "metadata": {},
   "outputs": [
    {
     "name": "stdin",
     "output_type": "stream",
     "text": [
      "Enter a number:  34\n"
     ]
    },
    {
     "name": "stdout",
     "output_type": "stream",
     "text": [
      "The number is positive.\n"
     ]
    }
   ],
   "source": [
    "number = int(input(\"Enter a number: \"))\n",
    "\n",
    "if number >= 0:\n",
    "    if number == 0:\n",
    "        print(\"The number is zero.\")\n",
    "    else:\n",
    "        print(\"The number is positive.\")\n",
    "else:\n",
    "    print(\"The number is negative.\")\n"
   ]
  },
  {
   "cell_type": "code",
   "execution_count": 37,
   "id": "7f73629e-746c-479a-a7ee-2da386a95a57",
   "metadata": {},
   "outputs": [
    {
     "name": "stdin",
     "output_type": "stream",
     "text": [
      "Enter your score:  109\n"
     ]
    },
    {
     "name": "stdout",
     "output_type": "stream",
     "text": [
      "Your grade is: Fail\n"
     ]
    }
   ],
   "source": [
    "score = int(input(\"Enter your score: \"))\n",
    "\n",
    "if 90 <= score <= 100:\n",
    "    grade = \"A\"\n",
    "elif 70 <= score < 90:\n",
    "    grade = \"B\"\n",
    "elif 50 <= score < 70:\n",
    "    grade = \"C\"\n",
    "else:\n",
    "    grade = \"Fail\"\n",
    "\n",
    "print(\"Your grade is:\", grade)\n"
   ]
  },
  {
   "cell_type": "code",
   "execution_count": 39,
   "id": "570c10d2-9fc4-4422-9b8f-5f225fe6cd48",
   "metadata": {},
   "outputs": [
    {
     "name": "stdin",
     "output_type": "stream",
     "text": [
      "Enter a number:  -56\n"
     ]
    },
    {
     "name": "stdout",
     "output_type": "stream",
     "text": [
      "The number is negative and less than -10.\n"
     ]
    }
   ],
   "source": [
    "number = int(input(\"Enter a number: \"))\n",
    "\n",
    "if number > 0:\n",
    "    if number % 2 == 0:\n",
    "        print(\"The number is positive and even.\")\n",
    "    else:\n",
    "        print(\"The number is positive and odd.\")\n",
    "elif number == 0:\n",
    "    print(\"The number is zero.\")\n",
    "else:\n",
    "    if number < -10:\n",
    "        print(\"The number is negative and less than -10.\")\n",
    "    else:\n",
    "        print(\"The number is negative but not less than -10.\")"
   ]
  },
  {
   "cell_type": "code",
   "execution_count": 40,
   "id": "ba089c44-9d8e-4293-bb2e-14d1d0263b97",
   "metadata": {},
   "outputs": [
    {
     "name": "stdin",
     "output_type": "stream",
     "text": [
      "Enter the original price:  250\n"
     ]
    },
    {
     "name": "stdout",
     "output_type": "stream",
     "text": [
      "Discount: 25.0\n",
      "Final price: 225.0\n"
     ]
    }
   ],
   "source": [
    "price = float(input(\"Enter the original price: \"))\n",
    "\n",
    "if price > 500:\n",
    "    discount = 0.20 * price\n",
    "elif 200 <= price <= 500:\n",
    "    discount = 0.10 * price\n",
    "else:\n",
    "    discount = 0.0\n",
    "\n",
    "final_price = price - discount\n",
    "\n",
    "print(\"Discount:\", discount)\n",
    "print(\"Final price:\", final_price)\n"
   ]
  },
  {
   "cell_type": "code",
   "execution_count": 41,
   "id": "a6810304-efe5-48df-ad04-29994e4c8b78",
   "metadata": {},
   "outputs": [
    {
     "name": "stdout",
     "output_type": "stream",
     "text": [
      "1\n",
      "2\n",
      "3\n",
      "4\n",
      "5\n"
     ]
    }
   ],
   "source": [
    "count = 1\n",
    "while count<=5:\n",
    "    print(count)\n",
    "    count+=1\n",
    "    "
   ]
  },
  {
   "cell_type": "code",
   "execution_count": 42,
   "id": "5c79424b-62d8-4296-8532-5fa9ba0682c8",
   "metadata": {},
   "outputs": [
    {
     "name": "stdout",
     "output_type": "stream",
     "text": [
      "1\n",
      "2\n",
      "3\n",
      "4\n",
      "5\n"
     ]
    }
   ],
   "source": [
    "for num in range(1,6):\n",
    "    print (num)\n",
    "    "
   ]
  },
  {
   "cell_type": "code",
   "execution_count": 43,
   "id": "153cbea7-b307-4569-9cb6-a36633c9623b",
   "metadata": {},
   "outputs": [
    {
     "name": "stdout",
     "output_type": "stream",
     "text": [
      "Count: 0\n",
      "Count: 1\n",
      "Count: 2\n",
      "Count: 3\n",
      "Count: 4\n",
      "Loop ended.\n"
     ]
    }
   ],
   "source": [
    "count = 0\n",
    "\n",
    "while True:\n",
    "    print(\"Count:\", count)\n",
    "    count += 1\n",
    "    if count >= 5:\n",
    "        break\n",
    "\n",
    "print(\"Loop ended.\")\n"
   ]
  },
  {
   "cell_type": "code",
   "execution_count": 44,
   "id": "d8260113-9962-41b0-853c-e9bc8cea4aae",
   "metadata": {},
   "outputs": [
    {
     "name": "stdin",
     "output_type": "stream",
     "text": [
      "Enter the start of the range:  1\n",
      "Enter the end of the range:  5\n"
     ]
    },
    {
     "name": "stdout",
     "output_type": "stream",
     "text": [
      "6\n"
     ]
    }
   ],
   "source": [
    "start = int(input(\"Enter the start of the range: \"))\n",
    "end = int(input(\"Enter the end of the range: \"))\n",
    "\n",
    "sum_even = 0\n",
    "\n",
    "for num in range(start,end):\n",
    "    if num % 2 == 0:\n",
    "        sum_even += num\n",
    "print(sum_even)        "
   ]
  },
  {
   "cell_type": "code",
   "execution_count": 47,
   "id": "24e119a4-e906-42f9-966f-adfc337f4b12",
   "metadata": {},
   "outputs": [
    {
     "name": "stdin",
     "output_type": "stream",
     "text": [
      "Enter the number of rows:  4\n"
     ]
    },
    {
     "name": "stdout",
     "output_type": "stream",
     "text": [
      "1 \n",
      "1 2 \n",
      "1 2 3 \n",
      "1 2 3 4 \n"
     ]
    }
   ],
   "source": [
    "rows = int(input(\"Enter the number of rows: \"))\n",
    "\n",
    "for i in range(1, rows + 1):\n",
    "    for j in range(1,i+1):\n",
    "        print(j, end = \" \")  \n",
    "    print()    "
   ]
  },
  {
   "cell_type": "code",
   "execution_count": 48,
   "id": "3ce94908-32fd-435a-b0d1-570ead67de22",
   "metadata": {},
   "outputs": [
    {
     "name": "stdout",
     "output_type": "stream",
     "text": [
      "Hi guys\n"
     ]
    }
   ],
   "source": [
    "def hello():\n",
    "    print(\"Hi guys\")\n",
    "hello()    "
   ]
  },
  {
   "cell_type": "code",
   "execution_count": 50,
   "id": "f6f1939d-2079-451d-bf94-e992012430c5",
   "metadata": {},
   "outputs": [
    {
     "name": "stdout",
     "output_type": "stream",
     "text": [
      "My name is riya\n"
     ]
    }
   ],
   "source": [
    "def names(name):\n",
    "    print(\"My name is\",name)\n",
    "names(\"riya\")    "
   ]
  },
  {
   "cell_type": "code",
   "execution_count": 51,
   "id": "412ee7e1-e6d5-4bc2-a340-84d6f64c16a4",
   "metadata": {},
   "outputs": [
    {
     "name": "stdout",
     "output_type": "stream",
     "text": [
      "product is  30\n"
     ]
    }
   ],
   "source": [
    "def multiply_num(a,b):\n",
    "    return(a*b)\n",
    "print(\"product is \" , multiply_num(5,6))     \n",
    "                 "
   ]
  },
  {
   "cell_type": "code",
   "execution_count": 52,
   "id": "0c444239-6586-4e41-b0b7-54c29245ff96",
   "metadata": {},
   "outputs": [
    {
     "name": "stdin",
     "output_type": "stream",
     "text": [
      "Enter a number:  5\n"
     ]
    },
    {
     "name": "stdout",
     "output_type": "stream",
     "text": [
      "Factorial of 5 is 120\n"
     ]
    }
   ],
   "source": [
    "def factorial(n):\n",
    "    if n == 0:\n",
    "        return 1\n",
    "    else:\n",
    "        return n * factorial(n - 1)\n",
    "\n",
    "number = int(input(\"Enter a number: \"))\n",
    "result = factorial(number)\n",
    "print(\"Factorial of\", number, \"is\", result)\n"
   ]
  },
  {
   "cell_type": "code",
   "execution_count": 53,
   "id": "3fce2d0d-ec72-446e-b479-048c2724502d",
   "metadata": {},
   "outputs": [
    {
     "name": "stdin",
     "output_type": "stream",
     "text": [
      "Enter your email:  123@gmail.com\n",
      "Enter your password:  43w\n"
     ]
    },
    {
     "name": "stdout",
     "output_type": "stream",
     "text": [
      "Invalid email or password.\n"
     ]
    }
   ],
   "source": [
    "def login(email, password):\n",
    "    admin_email = \"admin@example.com\"\n",
    "    admin_password = \"123\"\n",
    "    \n",
    "    if email == admin_email and password == admin_password:\n",
    "        return \"Login successful!\"\n",
    "    else:\n",
    "        return \"Invalid email or password.\"\n",
    "\n",
    "email = input(\"Enter your email: \")\n",
    "password = input(\"Enter your password: \")\n",
    "\n",
    "result = login(email, password)\n",
    "print(result)\n"
   ]
  },
  {
   "cell_type": "code",
   "execution_count": 60,
   "id": "d5662718-6fc8-42ec-8737-05c17f18395f",
   "metadata": {},
   "outputs": [
    {
     "name": "stdout",
     "output_type": "stream",
     "text": [
      "[10, 20, 30, 40]\n",
      "40\n",
      "[10, 20, 30, 40, 60]\n",
      "[10, 20, 25, 30, 40, 60]\n",
      "60\n",
      "[10, 20, 25, 30, 40]\n",
      "5\n",
      "Minimum value  10\n",
      "Maximum value  40\n",
      "Sum  125\n",
      "[10, 20, 30, 40]\n",
      "True\n"
     ]
    }
   ],
   "source": [
    "#list\n",
    "mylist = [10,20,30,40]\n",
    "print(mylist)\n",
    "print(mylist[3]) #access based on index\n",
    "mylist.append(60)\n",
    "print(mylist)\n",
    "mylist.insert(2,25)\n",
    "print(mylist)\n",
    "\n",
    "#data removal\n",
    "print(mylist.pop())\n",
    "print(mylist)\n",
    "\n",
    "print(len(mylist))\n",
    "\n",
    "print(\"Minimum value \",min(mylist))\n",
    "print(\"Maximum value \",max(mylist))\n",
    "print(\"Sum \",sum(mylist))\n",
    "data = mylist.remove(25)\n",
    "print(mylist)\n",
    "\n",
    "print(20 in mylist)"
   ]
  },
  {
   "cell_type": "raw",
   "id": "a5a2419f-f6c1-4e50-8d5b-299e1919b348",
   "metadata": {},
   "source": [
    "\n"
   ]
  },
  {
   "cell_type": "code",
   "execution_count": 61,
   "id": "d6f9f4a9-abd2-42e0-968e-1ec6762b1981",
   "metadata": {},
   "outputs": [
    {
     "name": "stdout",
     "output_type": "stream",
     "text": [
      "Original list: [0, 1, 2, 3, 4, 5, 6, 7, 8, 9]\n",
      "numbers[2:6]: [2, 3, 4, 5]\n",
      "numbers[:6]: [0, 1, 2, 3, 4, 5]\n",
      "numbers[5:]: [5, 6, 7, 8, 9]\n",
      "numbers[::2]: [0, 2, 4, 6, 8]\n",
      "numbers[::-1]: [9, 8, 7, 6, 5, 4, 3, 2, 1, 0]\n",
      "numbers[1:8:2]: [1, 3, 5, 7]\n"
     ]
    }
   ],
   "source": [
    "numbers = [0, 1, 2, 3, 4, 5, 6, 7, 8, 9]\n",
    "\n",
    "print(\"Original list:\", numbers)\n",
    "print(\"numbers[2:6]:\", numbers[2:6])\n",
    "print(\"numbers[:6]:\", numbers[:6])\n",
    "print(\"numbers[5:]:\", numbers[5:])\n",
    "print(\"numbers[::2]:\", numbers[::2])\n",
    "print(\"numbers[::-1]:\", numbers[::-1])\n",
    "print(\"numbers[1:8:2]:\", numbers[1:8:2])"
   ]
  },
  {
   "cell_type": "code",
   "execution_count": 62,
   "id": "0186ccf4-3306-445b-b221-407de83f2882",
   "metadata": {},
   "outputs": [
    {
     "name": "stdout",
     "output_type": "stream",
     "text": [
      "Sorted list: [1, 2, 5, 5, 6, 9]\n",
      "Reversed list: [6, 5, 1, 9, 2, 5]\n"
     ]
    }
   ],
   "source": [
    "numbers = [5, 2, 9, 1, 5, 6]\n",
    "\n",
    "sorted_numbers = sorted(numbers)\n",
    "print(\"Sorted list:\", sorted_numbers)\n",
    "\n",
    "reversed_numbers = list(reversed(numbers))\n",
    "print(\"Reversed list:\", reversed_numbers)\n"
   ]
  },
  {
   "cell_type": "code",
   "execution_count": 63,
   "id": "40e076cf-a634-4866-a3ab-d8c8ee1530cd",
   "metadata": {},
   "outputs": [
    {
     "name": "stdout",
     "output_type": "stream",
     "text": [
      "Original list: [5, 2, 9, 1, 5, 6]\n",
      "Sorted copy: [1, 2, 5, 5, 6, 9]\n"
     ]
    }
   ],
   "source": [
    "numbers = [5, 2, 9, 1, 5, 6]\n",
    "\n",
    "numbers_copy = numbers.copy()\n",
    "numbers_copy.sort()\n",
    "\n",
    "print(\"Original list:\", numbers)\n",
    "print(\"Sorted copy:\", numbers_copy)\n"
   ]
  },
  {
   "cell_type": "code",
   "execution_count": 65,
   "id": "8803fbae-b8b6-43b3-bb34-4157c8004df9",
   "metadata": {},
   "outputs": [
    {
     "name": "stdout",
     "output_type": "stream",
     "text": [
      "\n",
      "Enter 1 to add \n",
      "Enter 2 to remove\n",
      "Enter 3 to get the list\n",
      "Enter 4 to exit\n"
     ]
    },
    {
     "name": "stdin",
     "output_type": "stream",
     "text": [
      "Enter your choice:  1\n",
      "Enter a to-do item:  eat\n"
     ]
    },
    {
     "name": "stdout",
     "output_type": "stream",
     "text": [
      "Added: eat\n",
      "\n",
      "Enter 1 to add \n",
      "Enter 2 to remove\n",
      "Enter 3 to get the list\n",
      "Enter 4 to exit\n"
     ]
    },
    {
     "name": "stdin",
     "output_type": "stream",
     "text": [
      "Enter your choice:  1\n",
      "Enter a to-do item:  sleep\n"
     ]
    },
    {
     "name": "stdout",
     "output_type": "stream",
     "text": [
      "Added: sleep\n",
      "\n",
      "Enter 1 to add \n",
      "Enter 2 to remove\n",
      "Enter 3 to get the list\n",
      "Enter 4 to exit\n"
     ]
    },
    {
     "name": "stdin",
     "output_type": "stream",
     "text": [
      "Enter your choice:  1\n",
      "Enter a to-do item:  have coffee\n"
     ]
    },
    {
     "name": "stdout",
     "output_type": "stream",
     "text": [
      "Added: have coffee\n",
      "\n",
      "Enter 1 to add \n",
      "Enter 2 to remove\n",
      "Enter 3 to get the list\n",
      "Enter 4 to exit\n"
     ]
    },
    {
     "name": "stdin",
     "output_type": "stream",
     "text": [
      "Enter your choice:  2\n",
      "Enter the to-do item to remove:  have coffee\n"
     ]
    },
    {
     "name": "stdout",
     "output_type": "stream",
     "text": [
      "Removed: have coffee\n",
      "\n",
      "Enter 1 to add \n",
      "Enter 2 to remove\n",
      "Enter 3 to get the list\n",
      "Enter 4 to exit\n"
     ]
    },
    {
     "name": "stdin",
     "output_type": "stream",
     "text": [
      "Enter your choice:  3\n"
     ]
    },
    {
     "name": "stdout",
     "output_type": "stream",
     "text": [
      "Current to-do list: ['eat', 'sleep']\n",
      "\n",
      "Enter 1 to add \n",
      "Enter 2 to remove\n",
      "Enter 3 to get the list\n",
      "Enter 4 to exit\n"
     ]
    },
    {
     "name": "stdin",
     "output_type": "stream",
     "text": [
      "Enter your choice:  4\n"
     ]
    },
    {
     "name": "stdout",
     "output_type": "stream",
     "text": [
      "Byeeeeee...\n"
     ]
    }
   ],
   "source": [
    "todo_list = []\n",
    "\n",
    "def add_todo():\n",
    "    todo = input(\"Enter a to-do item: \")\n",
    "    todo_list.append(todo)\n",
    "    print(f\"Added: {todo}\")\n",
    "\n",
    "def remove_todo():\n",
    "    todo = input(\"Enter the to-do item to remove: \")\n",
    "    if todo in todo_list:\n",
    "        todo_list.remove(todo)\n",
    "        print(f\"Removed: {todo}\")\n",
    "    else:\n",
    "        print(f\"{todo} not found in the to-do list.\")\n",
    "\n",
    "def get_all_todo():\n",
    "    print(\"Current to-do list:\", todo_list)\n",
    "\n",
    "while True:\n",
    "    print(\"\\nEnter 1 to add \")\n",
    "    print(\"Enter 2 to remove\")\n",
    "    print(\"Enter 3 to get the list\")\n",
    "    print(\"Enter 4 to exit\")\n",
    "    \n",
    "    choice = input(\"Enter your choice: \")\n",
    "    \n",
    "    if choice == '1':\n",
    "        add_todo()\n",
    "    elif choice == '2':\n",
    "        remove_todo()\n",
    "    elif choice == '3':\n",
    "        get_all_todo()\n",
    "    elif choice == '4':\n",
    "        print(\"Byeeeeee...\")\n",
    "        break\n",
    "    else:\n",
    "        print(\"Invalid choice.\")\n"
   ]
  },
  {
   "cell_type": "code",
   "execution_count": 70,
   "id": "04cf2aac-822f-4e9f-af28-34f2ca43eb97",
   "metadata": {},
   "outputs": [
    {
     "name": "stdout",
     "output_type": "stream",
     "text": [
      "(42, 'Hello', 3.14, True, [1, 2, 3])\n",
      "()\n",
      "('hello',)\n",
      "<class 'tuple'>\n",
      "access values:  Hello\n"
     ]
    }
   ],
   "source": [
    "my_tuple = (42, \"Hello\", 3.14, True, [1, 2, 3])\n",
    "\n",
    "print(my_tuple)\n",
    "\n",
    "empty_tup = ()\n",
    "print(empty_tup)\n",
    "\n",
    "data = (\"hello\",)\n",
    "print(data)\n",
    "print(type(data))\n",
    "\n",
    "print(\"access values: \",my_tuple[1])"
   ]
  },
  {
   "cell_type": "code",
   "execution_count": 71,
   "id": "168d628b-b507-4217-b80f-ce2346a92b39",
   "metadata": {},
   "outputs": [
    {
     "name": "stdout",
     "output_type": "stream",
     "text": [
      "Original tuple: (42, 'Hello', 3.14, True, [1, 2, 3])\n",
      "Modified tuple: (99, 'Hello', 3.14, True, [1, 2, 3], 'New Element')\n"
     ]
    }
   ],
   "source": [
    "my_tuple = (42, \"Hello\", 3.14, True, [1, 2, 3])\n",
    "\n",
    "my_list = list(my_tuple)\n",
    "\n",
    "my_list[0] = 99\n",
    "my_list.append(\"New Element\")\n",
    "\n",
    "modified_tuple = tuple(my_list)\n",
    "\n",
    "print(\"Original tuple:\", my_tuple)\n",
    "print(\"Modified tuple:\", modified_tuple)\n"
   ]
  },
  {
   "cell_type": "code",
   "execution_count": 72,
   "id": "7f7320c8-3a7e-4f49-bafe-17c996364bb8",
   "metadata": {},
   "outputs": [
    {
     "name": "stdout",
     "output_type": "stream",
     "text": [
      "(1, 2, 3, 4, 5, 6)\n"
     ]
    }
   ],
   "source": [
    "tuple1 = (1, 2, 3)\n",
    "tuple2 = (4, 5, 6)\n",
    "concatenated_tuple = tuple1 + tuple2\n",
    "print(concatenated_tuple)\n"
   ]
  },
  {
   "cell_type": "code",
   "execution_count": 75,
   "id": "e41b51f1-503c-44ec-a433-72127c6edbb8",
   "metadata": {},
   "outputs": [
    {
     "name": "stdout",
     "output_type": "stream",
     "text": [
      "3\n",
      "2\n"
     ]
    }
   ],
   "source": [
    "list = [1,2,3,2,4,5,6,2,7,8]\n",
    "print(list.count(2))\n",
    "\n",
    "print(list.index(3))"
   ]
  },
  {
   "cell_type": "code",
   "execution_count": 78,
   "id": "fe2c1b00-27f3-4987-9d72-66a578d41c3e",
   "metadata": {},
   "outputs": [
    {
     "name": "stdout",
     "output_type": "stream",
     "text": [
      "{'name': 'John Doe', 'age': 30, 'department': 'Engineering', 'position': 'Software Engineer', 'salary': 75000}\n",
      "Employee name John Doe\n",
      "Manager:  None\n"
     ]
    }
   ],
   "source": [
    "employee = {\n",
    "    \"name\": \"John Doe\",\n",
    "    \"age\": 30,\n",
    "    \"department\": \"Engineering\",\n",
    "    \"position\": \"Software Engineer\",\n",
    "    \"salary\": 75000\n",
    "}\n",
    "\n",
    "print(employee)\n",
    "print(\"Employee name\",employee[\"name\"])\n",
    "print(\"Manager: \",employee.get(\"manager\"))\n"
   ]
  },
  {
   "cell_type": "code",
   "execution_count": 80,
   "id": "8ff1ca74-1cfc-4483-bf46-6a6f446fd76b",
   "metadata": {},
   "outputs": [
    {
     "name": "stdout",
     "output_type": "stream",
     "text": [
      "id :  1\n",
      "name :  John\n",
      "email :  abc@xyz.com\n",
      "address :  USA\n"
     ]
    }
   ],
   "source": [
    "student = {\n",
    "    \"id\" : 1,\n",
    "    \"name\" :\"John\",\n",
    "    \"email\" :\"abc@xyz.com\",\n",
    "    \"address\" :\"USA\"\n",
    "}\n",
    "for key in student:\n",
    "    print(key,\": \",student[key])"
   ]
  },
  {
   "cell_type": "code",
   "execution_count": 82,
   "id": "b3b46aef-f302-4473-a46d-a1c46f3ad9c1",
   "metadata": {},
   "outputs": [
    {
     "name": "stdout",
     "output_type": "stream",
     "text": [
      "dict_items([('id', 1), ('name', 'John'), ('email', 'abc@xyz.com'), ('address', 'USA')])\n"
     ]
    }
   ],
   "source": [
    "print(student.items())"
   ]
  },
  {
   "cell_type": "code",
   "execution_count": 83,
   "id": "c69a5e59-8db6-49bd-a4e6-4b9ed9966fbe",
   "metadata": {},
   "outputs": [
    {
     "name": "stdout",
     "output_type": "stream",
     "text": [
      "id :  1\n",
      "name :  John\n",
      "email :  abc@xyz.com\n",
      "address :  USA\n"
     ]
    }
   ],
   "source": [
    "for key,value in student.items():\n",
    "    print(key,\": \",value)"
   ]
  },
  {
   "cell_type": "code",
   "execution_count": 88,
   "id": "f6bc1a75-27b4-4ba4-85d5-f9e9a01dc976",
   "metadata": {},
   "outputs": [
    {
     "name": "stdout",
     "output_type": "stream",
     "text": [
      "Union: {1, 2, 3, 4, 5, 6, 7, 8}\n",
      "{1, 2, 3, 4, 5, 6, 7, 8}\n",
      "Intersection: {4, 5}\n",
      "{4, 5}\n",
      "Difference: {1, 2, 3}\n",
      "{1, 2, 3}\n",
      "Symmetric Difference: {1, 2, 3, 6, 7, 8}\n",
      "{1, 2, 3, 6, 7, 8}\n"
     ]
    }
   ],
   "source": [
    "set1 = {1, 2, 3, 4, 5}\n",
    "set2 = {4, 5, 6, 7, 8}\n",
    "\n",
    "union_set = set1 | set2\n",
    "intersection_set = set1 & set2\n",
    "difference_set = set1 - set2\n",
    "symmetric_difference_set = set1 ^ set2\n",
    "\n",
    "print(\"Union:\", union_set)\n",
    "print(set1.union(set2))\n",
    "print(\"Intersection:\", intersection_set)\n",
    "print(set1.intersection(set2))\n",
    "print(\"Difference:\", difference_set)\n",
    "print(set1.difference(set2))\n",
    "print(\"Symmetric Difference:\", symmetric_difference_set)\n",
    "print(set1.symmetric_difference(set2))"
   ]
  },
  {
   "cell_type": "code",
   "execution_count": 106,
   "id": "6398dddf-80db-468a-8870-a5cfd614f5c9",
   "metadata": {},
   "outputs": [
    {
     "name": "stdout",
     "output_type": "stream",
     "text": [
      "Original Employees\n",
      "Employee: Alice, Salary: 50000, Department: HR\n",
      "Employee: Bob, Salary: 60000, Department: IT\n",
      "Employee: Charlie, Salary: 70000, Department: Finance\n",
      "\n",
      "Adding one more employee\n",
      "Employee: Alice, Salary: 50000, Department: HR\n",
      "Employee: Bob, Salary: 60000, Department: IT\n",
      "Employee: Charlie, Salary: 70000, Department: Finance\n",
      "Employee: David, Salary: 55000, Department: Marketing\n",
      "\n",
      "After updating the salary\n",
      "Employee: Alice, Salary: 52000, Department: HR\n",
      "Employee: Bob, Salary: 60000, Department: IT\n",
      "Employee: Charlie, Salary: 70000, Department: Finance\n",
      "Employee: David, Salary: 55000, Department: Marketing\n",
      "\n",
      "Deleting an employee\n",
      "Employee: Alice, Salary: 52000, Department: HR\n",
      "Employee: Bob, Salary: 60000, Department: IT\n",
      "Employee: David, Salary: 55000, Department: Marketing\n",
      "\n",
      "List of all employees\n",
      "Employee: Alice, Salary: 52000, Department: HR\n",
      "Employee: Bob, Salary: 60000, Department: IT\n",
      "Employee: David, Salary: 55000, Department: Marketing\n"
     ]
    }
   ],
   "source": [
    "def print_employees(employees):\n",
    "    for name, details in employees.items():\n",
    "        print(f\"Employee: {name}, Salary: {details[0]}, Department: {details[1]}\")\n",
    "\n",
    "employees = {\n",
    "    \"Alice\": [50000, \"HR\"],\n",
    "    \"Bob\": [60000, \"IT\"],\n",
    "    \"Charlie\": [70000, \"Finance\"]\n",
    "}\n",
    "\n",
    "print(\"Original Employees\")\n",
    "print_employees(employees)\n",
    "\n",
    "print(\"\\nAdding one more employee\")\n",
    "employees[\"David\"] = [55000, \"Marketing\"]\n",
    "print_employees(employees)\n",
    "\n",
    "print(\"\\nAfter updating the salary\")\n",
    "employees[\"Alice\"][0] = 52000\n",
    "print_employees(employees)\n",
    "\n",
    "print(\"\\nDeleting an employee\")\n",
    "del employees[\"Charlie\"]\n",
    "print_employees(employees)\n",
    "\n",
    "print(\"\\nList of all employees\")\n",
    "print_employees(employees)\n"
   ]
  },
  {
   "cell_type": "code",
   "execution_count": null,
   "id": "c91602ab-0082-4761-bf6a-d658a4326de0",
   "metadata": {},
   "outputs": [],
   "source": []
  }
 ],
 "metadata": {
  "kernelspec": {
   "display_name": "Python 3 (ipykernel)",
   "language": "python",
   "name": "python3"
  },
  "language_info": {
   "codemirror_mode": {
    "name": "ipython",
    "version": 3
   },
   "file_extension": ".py",
   "mimetype": "text/x-python",
   "name": "python",
   "nbconvert_exporter": "python",
   "pygments_lexer": "ipython3",
   "version": "3.13.2"
  }
 },
 "nbformat": 4,
 "nbformat_minor": 5
}
